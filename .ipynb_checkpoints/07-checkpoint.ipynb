{
 "cells": [
  {
   "cell_type": "markdown",
   "metadata": {},
   "source": [
    "生活館的披薩很好吃，許多同學都會提前預約披薩的領取時間，但是最近披薩攤的關於預約的規定修改了\n",
    "變成需要用身分證字號才能預約熱呼呼剛出爐的披薩\n",
    "為了有效預防有些同學拿重複或者是無效的身分證字號來兌換，需要你來幫忙設計一個可以辨識身分證字號的程式\n",
    "\n",
    "請寫一支程式統計(1)有效的身分證字號和(2)有效的身分證字號但重複及(3)無效的身分證字號的個數。\n",
    "\n",
    "每行的身分證字號將會為三種可能情況之一：\n",
    "\n",
    "(1)有效的身分證字號：T\n",
    "(2)有效的身分證字號但重複：O(有效的身分證字號第二次(含)之後再出現都列入重複)\n",
    "(3)無效的身分證字號：F.\n",
    "\n",
    "分別計算T、O、F 的個數，並依序輸出其值。\n",
    "\n",
    "\n",
    "輸入：\n",
    "第一行代表會有幾組身分證字號需要驗證\n",
    "\n",
    "輸出：\n",
    "輸出T、O、F 的個數\n",
    "\n",
    "範例：\n",
    "8\n",
    "M123456789\n",
    "A123456789\n",
    "A323456783\n",
    "M123456789\n",
    "M123456789\n",
    "M123456789\n",
    "A123456789\n",
    "A223344556\n",
    "\n",
    "輸出結果：\n",
    "2,4,2\n",
    "\n",
    "---------------------------------------------------------------------------------------------------------------------\n",
    "\n",
    "中華民國身分證的號碼是經由一串公式所產生出來的，其身分證字號共有十碼，包括第一個大寫的英文字母與接續的九個阿拉伯數字。\n",
    "\n",
    "(1)第一個碼代表地區，範例如下\n",
    "\n",
    "代碼 數值 縣市\n",
    "A 10 臺北市\n",
    "B 11 臺中市\n",
    "C 12 基隆市\n",
    "D 13 臺南市\n",
    "E 14 高雄市\n",
    "F 15 新北市\n",
    "G 16 宜蘭縣\n",
    "H 17 桃園市\n",
    "I 34 嘉義市\n",
    "J 18 新竹縣\n",
    "K 19 苗栗縣\n",
    "M 21 南投縣\n",
    "N 22 彰化縣\n",
    "O 35 新竹市\n",
    "P 23 雲林縣\n",
    "Q 24 嘉義縣\n",
    "T 27 屏東縣\n",
    "U 28 花蓮縣\n",
    "V 29 臺東縣\n",
    "W 32 金門縣\n",
    "X 30 澎湖縣\n",
    "Z 33 連江縣\n",
    "L 20 臺中縣\n",
    "R 25 臺南縣\n",
    "S 26 高雄縣\n",
    "Y 31 陽明山管理局\n",
    "\n",
    "(2)第二個碼代表性別，1 代表男性，2 代表女性"
   ]
  },
  {
   "cell_type": "code",
   "execution_count": 1,
   "metadata": {},
   "outputs": [
    {
     "name": "stdout",
     "output_type": "stream",
     "text": [
      "8\n",
      "M123456789\n",
      "A123456789\n",
      "A323456783\n",
      "M123456789\n",
      "M123456789\n",
      "M123456789\n",
      "A123456789\n",
      "A223344556\n"
     ]
    }
   ],
   "source": [
    "num = int(input())\n",
    "ID_list = []\n",
    "for i in range(num):\n",
    "    ID_list.append(input())"
   ]
  },
  {
   "cell_type": "code",
   "execution_count": 4,
   "metadata": {},
   "outputs": [],
   "source": [
    "# 代碼對照表\n",
    "dic = {'A' :'10','B' :'11','C' :'12','D' :'13',\n",
    "       'E' :'14','F' :'15','G' :'16','H' :'17',\n",
    "       'I' :'34','J' :'18','K' :'19','M' :'21',\n",
    "       'N' :'22','O' :'35','P' :'23','Q' :'24',\n",
    "       'T' :'27','U' :'28','V' :'29','W' :'32',\n",
    "       'X' :'30','Z' :'33','L' :'20','R' :'25',\n",
    "       'S' :'26','Y' :'31'}\n",
    "# 編號規則\n",
    "def True_ID(ID):\n",
    "    sum_ = 0\n",
    "    for i in range(len(ID)-1) : # 最後一碼不計算\n",
    "        if i == 0:\n",
    "            sum_ += int(dic[ID[i]])//10*1\n",
    "            sum_ += int(dic[ID[i]])%10*9\n",
    "        else:\n",
    "            sum_ += int(ID[i])*(9-i)\n",
    "    sum_ += int(ID[-1]) # 加上最後一碼驗證碼\n",
    "    if sum_% 10 == 0:\n",
    "        return True\n",
    "\n",
    "    else :\n",
    "        return False"
   ]
  },
  {
   "cell_type": "code",
   "execution_count": 5,
   "metadata": {},
   "outputs": [
    {
     "name": "stdout",
     "output_type": "stream",
     "text": [
      "2,4,2\n"
     ]
    }
   ],
   "source": [
    "T_list = []\n",
    "O_list = []\n",
    "F_list = []\n",
    "for ID in ID_list:\n",
    "    if len(ID) != 10 or not ID[0].isupper() or (ID[1] != '1' and ID[1] != '2') or not True_ID(ID):\n",
    "        F_list.append(ID)\n",
    "    else :\n",
    "        if ID not in T_list:\n",
    "            T_list.append(ID)\n",
    "        else :\n",
    "            O_list.append(ID)\n",
    "print(f'{len(T_list)},{len(O_list)},{len(F_list)}')"
   ]
  },
  {
   "cell_type": "code",
   "execution_count": null,
   "metadata": {},
   "outputs": [],
   "source": []
  }
 ],
 "metadata": {
  "kernelspec": {
   "display_name": "Python 3",
   "language": "python",
   "name": "python3"
  },
  "language_info": {
   "codemirror_mode": {
    "name": "ipython",
    "version": 3
   },
   "file_extension": ".py",
   "mimetype": "text/x-python",
   "name": "python",
   "nbconvert_exporter": "python",
   "pygments_lexer": "ipython3",
   "version": "3.7.4"
  }
 },
 "nbformat": 4,
 "nbformat_minor": 2
}
