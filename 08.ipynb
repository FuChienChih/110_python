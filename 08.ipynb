{
 "cells": [
  {
   "cell_type": "markdown",
   "metadata": {},
   "source": [
    "建立一個字典記錄同學的成績\n",
    "內容如下：\n",
    "林小明:85\n",
    "曾山水:93\n",
    "鄭美麗:67\n",
    "\n",
    "\n",
    "輸入一個同學的姓名，如果這位同學有在字典裡面的話則輸出他的成績\n",
    "沒有的話則建立一個新的鍵，並讓使用者輸入其值\n",
    "\n",
    "\n",
    "輸入：\n",
    "輸入學生姓名：\n",
    "林小明\n",
    "\n",
    "\n",
    "輸出：\n",
    "林小明的成績為85\n",
    "\n",
    "\n",
    "輸入：\n",
    "輸入學生姓名：\n",
    "abc\n",
    "\n",
    "\n",
    "輸入學生分數：\n",
    "100\n",
    "\n",
    "\n",
    "輸出：\n",
    "字典內容：{'林小明': 85, '曾山水': 93, '鄭美麗': 67, 'abc': '100'}"
   ]
  },
  {
   "cell_type": "markdown",
   "metadata": {},
   "source": [
    "# 解答"
   ]
  },
  {
   "cell_type": "code",
   "execution_count": 4,
   "metadata": {},
   "outputs": [],
   "source": [
    "class_room = {'林小明':85 ,'曾山水':93 ,'鄭美麗':67}"
   ]
  },
  {
   "cell_type": "code",
   "execution_count": 6,
   "metadata": {},
   "outputs": [
    {
     "name": "stdout",
     "output_type": "stream",
     "text": [
      "abc\n",
      "輸入學生分數100\n",
      "{'林小明': 85, '曾山水': 93, '鄭美麗': 67, 'abc': '100'}\n"
     ]
    }
   ],
   "source": [
    "name = input()\n",
    "if name in class_room :\n",
    "    print(f'{name}的成績為{class_room[name]}')\n",
    "else :\n",
    "    score = input('輸入學生分數')\n",
    "    class_room[name] = score\n",
    "    print(class_room)"
   ]
  },
  {
   "cell_type": "code",
   "execution_count": null,
   "metadata": {},
   "outputs": [],
   "source": []
  }
 ],
 "metadata": {
  "kernelspec": {
   "display_name": "Python 3",
   "language": "python",
   "name": "python3"
  },
  "language_info": {
   "codemirror_mode": {
    "name": "ipython",
    "version": 3
   },
   "file_extension": ".py",
   "mimetype": "text/x-python",
   "name": "python",
   "nbconvert_exporter": "python",
   "pygments_lexer": "ipython3",
   "version": "3.7.4"
  }
 },
 "nbformat": 4,
 "nbformat_minor": 2
}
