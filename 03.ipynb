{
 "cells": [
  {
   "cell_type": "markdown",
   "metadata": {},
   "source": [
    "求救!!!求救!!!!!快點~前線傳來訊號了!!! 你發現你身處戰場當中 需要解碼援軍救援訊號 請製作一程式 以方便解碼 \n",
    "訊號如下\n",
    "A .- B -... C -.-. D -..\n",
    "E . F ..-. G --. H ....\n",
    "I .. J .--- K -.- L .-..\n",
    "M -- N -. O --- P .--.\n",
    "Q --.- R .-. S ... T -\n",
    "U ..- V ...- W .-- X -..-\n",
    "Y -.-- Z --..\n",
    "第 1 列的數字n 代表有幾筆資料要測試  2<=n<=5 第二列起為測試資料，\n",
    "之後每列為每筆的測試資料，即是要解譯的密碼，每列密碼字元中間以空白隔開。\n",
    "每列密碼對應到的英文字(字元數) <=12 \n",
    "範例輸入\n",
    "2\n",
    "... --- ...\n",
    ".... . .-.. .--. \n",
    "範例輸出 \n",
    "SOS \n",
    "HELP"
   ]
  },
  {
   "cell_type": "code",
   "execution_count": 5,
   "metadata": {},
   "outputs": [],
   "source": [
    "Morse_Code ={'.-' : 'A','-...':'B','-.-.':'C', \n",
    "             '-..':'D','.':'E','..-.':'F', \n",
    "             '--.':'G' ,'....':'H','..':'I', \n",
    "             '.---':'J' ,'-.-':'K', '.-..':'L',\n",
    "             '--':'M', '-.':'N', '---':'O' ,\n",
    "             '.--.':'P','--.-':'Q', '.-.':'R', \n",
    "             '...':'S', '-':'T','..-':'U' ,\n",
    "             '...-':'V', '.--':'W' ,'-..-':'X',\n",
    "             '-.--':'Y', '--..':'Z'} "
   ]
  },
  {
   "cell_type": "code",
   "execution_count": 6,
   "metadata": {},
   "outputs": [
    {
     "name": "stdout",
     "output_type": "stream",
     "text": [
      "2\n",
      "... --- ...\n",
      ".... . .-.. .--.\n",
      "SOS\n",
      "HELP\n"
     ]
    }
   ],
   "source": [
    "import sys \n",
    "n = int(input())\n",
    "if n < 2 or n>5:\n",
    "    sys.exit(\"至少傳送2則msg 最多5則msg\") \n",
    "msg_list = []\n",
    "for i in range(n):\n",
    "    msg = input().split(' ')\n",
    "    if len(msg) > 12 :\n",
    "        sys.exit(\"msg過長，最多包涵12個英文字元\") \n",
    "    msg_list.append(msg)\n",
    "for msg in msg_list:\n",
    "    for i in range(len(msg)):\n",
    "        print(Morse_Code[msg[i]],end = '')\n",
    "    print('')"
   ]
  },
  {
   "cell_type": "markdown",
   "metadata": {},
   "source": [
    "# 解題步驟：\n",
    "\n",
    "這題題目很明顯，要用dictionary解題。\n",
    "\n",
    "\n",
    "將每則msg（用split切分後的list）裝在msg_list中，並利用迴圈一一解讀"
   ]
  },
  {
   "cell_type": "code",
   "execution_count": null,
   "metadata": {},
   "outputs": [],
   "source": []
  }
 ],
 "metadata": {
  "kernelspec": {
   "display_name": "Python 3",
   "language": "python",
   "name": "python3"
  },
  "language_info": {
   "codemirror_mode": {
    "name": "ipython",
    "version": 3
   },
   "file_extension": ".py",
   "mimetype": "text/x-python",
   "name": "python",
   "nbconvert_exporter": "python",
   "pygments_lexer": "ipython3",
   "version": "3.7.4"
  }
 },
 "nbformat": 4,
 "nbformat_minor": 2
}
