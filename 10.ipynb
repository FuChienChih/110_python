{
 "cells": [
  {
   "cell_type": "markdown",
   "metadata": {},
   "source": [
    "請設計一個可以進行質因數分解的程式\n",
    "\n",
    "\n",
    "輸入：\n",
    "20\n",
    "\n",
    "\n",
    "輸出：\n",
    "20 = 2*2*5\n",
    "\n",
    "\n",
    "輸入：\n",
    "120\n",
    "\n",
    "\n",
    "輸出：\n",
    "120 = 2*2*2*3*5"
   ]
  },
  {
   "cell_type": "markdown",
   "metadata": {},
   "source": [
    "# 解題想法：\n",
    "\n",
    "如果不能被2整除，就不能被4整除。不能被3整除，就不能被6整除....以此類推。\n",
    "\n",
    "\n",
    "所以在做質因數分解時，不需考慮此因數是不會是質數，只要注意range()從2開始就好了。"
   ]
  },
  {
   "cell_type": "markdown",
   "metadata": {},
   "source": [
    "# 解答"
   ]
  },
  {
   "cell_type": "code",
   "execution_count": 26,
   "metadata": {},
   "outputs": [
    {
     "name": "stdout",
     "output_type": "stream",
     "text": [
      "120\n",
      "120 = 22235\n"
     ]
    }
   ],
   "source": [
    "value = int(input())\n",
    "save = value\n",
    "list_ = [] #  裝因數的list\n",
    "while value != 1 :  # 在value 被除到=1之前，迴圈不停止\n",
    "    for i in range(2,value + 1):  # 從2開始，確定value能不能被整除\n",
    "        if value%i == 0:\n",
    "            list_.append(str(i))\n",
    "            value = int(value/i)\n",
    "            break\n",
    "            \n",
    "ans = ''.join(list_) # join 將list中元素合併\n",
    "\n",
    "print(f'{save} = {int(ans)}')"
   ]
  },
  {
   "cell_type": "code",
   "execution_count": null,
   "metadata": {},
   "outputs": [],
   "source": []
  },
  {
   "cell_type": "code",
   "execution_count": null,
   "metadata": {},
   "outputs": [],
   "source": []
  },
  {
   "cell_type": "code",
   "execution_count": null,
   "metadata": {},
   "outputs": [],
   "source": []
  }
 ],
 "metadata": {
  "kernelspec": {
   "display_name": "Python 3",
   "language": "python",
   "name": "python3"
  },
  "language_info": {
   "codemirror_mode": {
    "name": "ipython",
    "version": 3
   },
   "file_extension": ".py",
   "mimetype": "text/x-python",
   "name": "python",
   "nbconvert_exporter": "python",
   "pygments_lexer": "ipython3",
   "version": "3.7.4"
  }
 },
 "nbformat": 4,
 "nbformat_minor": 2
}
