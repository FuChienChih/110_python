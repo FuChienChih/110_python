{
 "cells": [
  {
   "cell_type": "markdown",
   "metadata": {},
   "source": [
    "# 題目 ：\n",
    "身為中金院大三生的學生啊明，其實私下的身分是超能力者，不時能看到人額頭上的幸運指數，在每天的觀察和數學當中發現到一個特殊公式!\n",
    "可以用生日計算出一個人的人生平均幸運值!\n",
    "(上面文字看看就好別太認真) \n",
    "\n",
    "\n",
    "M = 月\n",
    "D = 日\n",
    "S = (M*2+D)%3 \n",
    "得到 S 的值，再依照 S 的值從 0 到 2 分別給與 普通、吉、大吉 等三種不同的運勢 \n",
    "\n",
    "0 普通  1 吉  2 大吉\n",
    "\n",
    "\n",
    "##限制##:\n",
    "只能以兩行寫出\n",
    "\n",
    "\n",
    "範例輸入: 12 3 (中間空格為空白鍵一次) \n",
    "範例輸出: 普通"
   ]
  },
  {
   "cell_type": "markdown",
   "metadata": {},
   "source": [
    "# 解答"
   ]
  },
  {
   "cell_type": "code",
   "execution_count": 1,
   "metadata": {},
   "outputs": [
    {
     "name": "stdout",
     "output_type": "stream",
     "text": [
      "12 3\n",
      "普通\n"
     ]
    }
   ],
   "source": [
    "M,D = list(map(int,input().split(' ')))\n",
    "print((lambda M,D : '普通' if (M*2+D)%3 ==0 else('吉' if (M*2+D)%3 ==1 else '大吉'))(M,D))"
   ]
  },
  {
   "cell_type": "markdown",
   "metadata": {},
   "source": [
    "# 解題步驟：\n",
    "\n",
    "建一個函示，判斷幸運指數是『普通』 『吉』 or 『大吉』\n",
    "\n",
    "函示會有兩個參數，分別為(M,D)"
   ]
  },
  {
   "cell_type": "code",
   "execution_count": 2,
   "metadata": {},
   "outputs": [],
   "source": [
    "def funtion(M,D):\n",
    "    if (M*2+D)%3 == 0 :\n",
    "        print('普通')\n",
    "    elif (M*2+D)%3 ==1 :\n",
    "        print('吉')\n",
    "    else :\n",
    "        print('大吉')"
   ]
  },
  {
   "cell_type": "markdown",
   "metadata": {},
   "source": [
    "python 中，有個方法可以將函示用一行表示出來 >>> lambda\n",
    "但lambda 只支持 if , else 。 不支持 elif\n",
    "用巢狀結構可以解決此問題"
   ]
  },
  {
   "cell_type": "code",
   "execution_count": 3,
   "metadata": {},
   "outputs": [],
   "source": [
    "def funtion(M,D):\n",
    "    if (M*2+D)%3 == 0 :\n",
    "        print('普通')\n",
    "    else :\n",
    "        if (M*2+D)%3 == 1:\n",
    "            print('吉')\n",
    "        else :\n",
    "            print('大吉')\n",
    "\n",
    "# 轉成 lambda 函示\n",
    "\n",
    "funtion = lambda M,D : '普通' if (M*2+D)%3 ==0 else('吉' if (M*2+D)%3 ==1 else '大吉') # 這行意思與 def funtion 一模一樣"
   ]
  },
  {
   "cell_type": "markdown",
   "metadata": {},
   "source": [
    "寫完了函示，現在要用一行獲得M,D"
   ]
  },
  {
   "cell_type": "code",
   "execution_count": 7,
   "metadata": {},
   "outputs": [
    {
     "name": "stdout",
     "output_type": "stream",
     "text": [
      "12 3\n"
     ]
    },
    {
     "data": {
      "text/plain": [
       "('12', '3')"
      ]
     },
     "execution_count": 7,
     "metadata": {},
     "output_type": "execute_result"
    }
   ],
   "source": [
    "M,D = input().split(' ') # 以空白建切分input \n",
    "M,D"
   ]
  },
  {
   "cell_type": "markdown",
   "metadata": {},
   "source": [
    "但切分後的結果，M,D 類別(type)為str 。 用map函示可以將list中的字串轉為整數\n",
    "\n",
    "\n",
    "https://blog.csdn.net/u010412858/article/details/72084936"
   ]
  },
  {
   "cell_type": "code",
   "execution_count": 8,
   "metadata": {},
   "outputs": [
    {
     "name": "stdout",
     "output_type": "stream",
     "text": [
      "12 3\n"
     ]
    },
    {
     "data": {
      "text/plain": [
       "(12, 3)"
      ]
     },
     "execution_count": 8,
     "metadata": {},
     "output_type": "execute_result"
    }
   ],
   "source": [
    "M,D = list(map(int,input().split(' ')))\n",
    "M,D"
   ]
  },
  {
   "cell_type": "markdown",
   "metadata": {},
   "source": [
    "將下面code 在合併 \n",
    "\n",
    "----------->\n",
    "\n",
    "\n",
    "funtion = lambda M,D : '普通' if (M*2+D)%3 ==0 else('吉' if (M*2+D)%3 ==1 else '大吉')\n",
    "\n",
    "\n",
    "funtion(M,D)\n",
    "\n",
    "----------->\n",
    "\n",
    "\n",
    "(lambda M,D : '普通' if (M*2+D)%3 ==0 else('吉' if (M*2+D)%3 ==1 else '大吉'))(M,D)"
   ]
  },
  {
   "cell_type": "code",
   "execution_count": 9,
   "metadata": {},
   "outputs": [
    {
     "name": "stdout",
     "output_type": "stream",
     "text": [
      "12 3\n"
     ]
    },
    {
     "data": {
      "text/plain": [
       "'普通'"
      ]
     },
     "execution_count": 9,
     "metadata": {},
     "output_type": "execute_result"
    }
   ],
   "source": [
    "# 結果\n",
    "M,D = list(map(int,input().split(' ')))\n",
    "(lambda M,D : '普通' if (M*2+D)%3 ==0 else('吉' if (M*2+D)%3 ==1 else '大吉'))(M,D)"
   ]
  }
 ],
 "metadata": {
  "kernelspec": {
   "display_name": "Python 3",
   "language": "python",
   "name": "python3"
  },
  "language_info": {
   "codemirror_mode": {
    "name": "ipython",
    "version": 3
   },
   "file_extension": ".py",
   "mimetype": "text/x-python",
   "name": "python",
   "nbconvert_exporter": "python",
   "pygments_lexer": "ipython3",
   "version": "3.7.4"
  }
 },
 "nbformat": 4,
 "nbformat_minor": 2
}
