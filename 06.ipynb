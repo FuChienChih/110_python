{
 "cells": [
  {
   "cell_type": "markdown",
   "metadata": {},
   "source": [
    "小明自告奮勇幫宿舍裡的夥伴訂飲料，於是到了每一間房間詢問。\n",
    "但小明希望從每一間房間一次收齊飲料錢，\n",
    "所以設計了一個程式可以幫他計算每間房共要付多少錢。\n",
    "\n",
    "\n",
    "輸入：\n",
    "第一行一個整數 T\n",
    "代表有 T 間房要訂飲料\n",
    "每房飲料錢加總一行\n",
    "包括多個以空白隔開的正整數\n",
    "\n",
    "\n",
    "輸出；\n",
    "輸出飲料錢相加的結果\n",
    "\n",
    "\n",
    "範例：\n",
    "3\n",
    "25 + 35 + 60 + 45\n",
    "55 + 80 + 110 + 30\n",
    "75 + 65\n",
    "\n",
    "\n",
    "輸出結果：\n",
    "165\n",
    "275\n",
    "140\n",
    "\n",
    "\n",
    "p.s. 小明不喜歡用計算機，小明很機車"
   ]
  },
  {
   "cell_type": "markdown",
   "metadata": {},
   "source": [
    "# 解答"
   ]
  },
  {
   "cell_type": "code",
   "execution_count": 9,
   "metadata": {},
   "outputs": [
    {
     "name": "stdout",
     "output_type": "stream",
     "text": [
      "3\n",
      "25 + 35 + 60 + 45\n",
      "55 + 80 + 110 + 30\n",
      "75 + 65\n"
     ]
    }
   ],
   "source": [
    "T = int(input())\n",
    "sum_list = list()\n",
    "for i in range(T):\n",
    "    sum_list.append(eval(input()))"
   ]
  },
  {
   "cell_type": "code",
   "execution_count": 10,
   "metadata": {},
   "outputs": [
    {
     "name": "stdout",
     "output_type": "stream",
     "text": [
      "165\n",
      "275\n",
      "140\n"
     ]
    }
   ],
   "source": [
    "for i in sum_list:\n",
    "    print(i)"
   ]
  },
  {
   "cell_type": "code",
   "execution_count": null,
   "metadata": {},
   "outputs": [],
   "source": []
  }
 ],
 "metadata": {
  "kernelspec": {
   "display_name": "Python 3",
   "language": "python",
   "name": "python3"
  },
  "language_info": {
   "codemirror_mode": {
    "name": "ipython",
    "version": 3
   },
   "file_extension": ".py",
   "mimetype": "text/x-python",
   "name": "python",
   "nbconvert_exporter": "python",
   "pygments_lexer": "ipython3",
   "version": "3.7.4"
  }
 },
 "nbformat": 4,
 "nbformat_minor": 2
}
